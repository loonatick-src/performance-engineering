{
 "cells": [
  {
   "cell_type": "code",
   "execution_count": 40,
   "id": "b2d68730",
   "metadata": {},
   "outputs": [],
   "source": [
    "import os\n",
    "from subprocess import check_output, Popen\n",
    "import time\n",
    "from pathlib import Path\n",
    "import itertools\n",
    "import pandas as pd\n",
    "import tempfile\n",
    "from numpy import mean, std"
   ]
  },
  {
   "cell_type": "code",
   "execution_count": 3,
   "id": "4dee4748",
   "metadata": {},
   "outputs": [],
   "source": [
    "\"\"\"\n",
    "CPU name:\tIntel(R) Core(TM) i7-9750H CPU @ 2.60GHz\n",
    "CPU type:\tIntel Coffeelake processor\n",
    "CPU stepping:\t10\n",
    "\"\"\"\n",
    "# likwid-bench -t peakflops -W N:16kB:1\n",
    "peak_MFlops = [5178.29, 5175.56, 5175.70, 5169.06, 5160.98]\n",
    "# likwid-bench -t peakflops_avx -W N:16kB:1\n",
    "peak_MFlops_avx = [20621.23, 20631.51, 20569.54, 20616.68, 20632.56]\n",
    "# likwid-bench -t peakflops_avx_fma -W N:16kB:1\n",
    "peak_MFlops_avx_fma = [41211.03, 41277.69, 41240.11, 41260.63, 41245.61]"
   ]
  },
  {
   "cell_type": "code",
   "execution_count": 5,
   "id": "d7deb8a2",
   "metadata": {},
   "outputs": [],
   "source": [
    "def working_group(mem, units, threads):\n",
    "    mem = float(mem)\n",
    "    threads = int(threads)\n",
    "    assert threads > 0\n",
    "    return f\"-W N:{mem}{units}:{threads}\""
   ]
  },
  {
   "cell_type": "code",
   "execution_count": 36,
   "id": "f793161d",
   "metadata": {},
   "outputs": [],
   "source": [
    "def try_parse(s, t):\n",
    "    try:\n",
    "        return t(s)\n",
    "    except ValueError:\n",
    "        return None\n",
    "    \n",
    "def try_parse_int(s):\n",
    "    return try_parse(s, int)\n",
    "\n",
    "def try_parse_float(s):\n",
    "    return try_parse(s, float)\n",
    "\n",
    "def try_parse_size(l):\n",
    "    multiplier = 1\n",
    "    if l[-1] == \"MB\":\n",
    "        multiplier = 1024\n",
    "    size_kB = try_parse_int(l[1])\n",
    "    if size_kB is None:\n",
    "        return None\n",
    "    else:\n",
    "        return multiplier * size_kB\n",
    "    \n",
    "def try_parse_flops(l):\n",
    "    return try_parse_float(l[1])"
   ]
  },
  {
   "cell_type": "code",
   "execution_count": 28,
   "id": "78d981b2",
   "metadata": {},
   "outputs": [],
   "source": [
    "def get_topo():\n",
    "    command = \"likwid-topology\"\n",
    "    f = tempfile.TemporaryFile()\n",
    "    topo_proc = Popen(command, shell=True, stdout=f)\n",
    "    topo_proc.wait()\n",
    "    f.seek(0)\n",
    "    raw_output = f.read()\n",
    "    lines = raw_output.decode(\"utf-8\").strip().split(\"\\n\")\n",
    "    cache_info_lines = [line.split() for line in lines if \"Size\" in line]\n",
    "    cache_info_kB = [try_parse_size(l) for l in cache_info_lines]\n",
    "    return cache_info_kB"
   ]
  },
  {
   "cell_type": "code",
   "execution_count": 60,
   "id": "4e8cb16d",
   "metadata": {},
   "outputs": [],
   "source": [
    "def bench_peakflops(mem, units, threads, trials=5):\n",
    "    # TODO: FIXME\n",
    "    # I know I should be using enums, but CBA right now sorry\n",
    "    benchmark_variants = [\"peakflops\" for _ in range(3)]\n",
    "    benchmark_variants[1] += \"_avx\"\n",
    "    benchmark_variants[2] += \"_avx_fma\"\n",
    "    wg = working_group(mem, units, threads)\n",
    "    cmd_base = \"likwid-bench -t\"\n",
    "    peak_Mflops = []\n",
    "    for bvar in benchmark_variants:\n",
    "        cmd = f\"{cmd_base} {bvar} {wg}\"\n",
    "        print(cmd)\n",
    "        f = tempfile.TemporaryFile()\n",
    "        for _ in range(trials):\n",
    "            p = Popen(cmd, shell=True, stdout=f)\n",
    "            p.wait()\n",
    "        f.seek(0)\n",
    "        output_lines = f.read().decode(\"utf-8\").strip().split(\"\\n\")\n",
    "        relevant_lines = [l.split() for l in lines if \"MFlop\" in l]\n",
    "        print(relevant_lines)\n",
    "        variant_Mflops = [try_parse_flops(l) for l in relevant_lines]\n",
    "        print(variant_Mflops)\n",
    "        peak_Mflops.append(variant_Mflops)\n",
    "        f.close()\n",
    "    return peak_MFlops\n",
    "#     command += \" \"\n",
    "#     command += wg\n",
    "#     f = tempfile.TemporaryFile()\n",
    "#     bench_proc = Popen(command, shell=True, stdout=f)\n",
    "#     bench_proc.wait()\n",
    "#     f.seek(0)\n",
    "#     raw_output = f.read()\n",
    "#     lines = raw_output.decode(\"utf-8\").strip().split(\"\\n\")\n",
    "#     return lines"
   ]
  },
  {
   "cell_type": "code",
   "execution_count": 58,
   "id": "beb4a7fc",
   "metadata": {},
   "outputs": [],
   "source": [
    "cache_info_lines\n",
    "buffer_sizes = [m/2 for m in cache_info_lines]"
   ]
  },
  {
   "cell_type": "code",
   "execution_count": 61,
   "id": "26895b01",
   "metadata": {},
   "outputs": [
    {
     "name": "stdout",
     "output_type": "stream",
     "text": [
      "likwid-bench -t peakflops -W N:16.0kB:1\n"
     ]
    },
    {
     "name": "stderr",
     "output_type": "stream",
     "text": [
      "Running without Marker API. Activate Marker API with -m on commandline.\n",
      "Running without Marker API. Activate Marker API with -m on commandline.\n",
      "Running without Marker API. Activate Marker API with -m on commandline.\n",
      "Running without Marker API. Activate Marker API with -m on commandline.\n",
      "Running without Marker API. Activate Marker API with -m on commandline.\n"
     ]
    },
    {
     "name": "stdout",
     "output_type": "stream",
     "text": [
      "[]\n",
      "[]\n",
      "likwid-bench -t peakflops_avx -W N:16.0kB:1\n"
     ]
    },
    {
     "name": "stderr",
     "output_type": "stream",
     "text": [
      "Running without Marker API. Activate Marker API with -m on commandline.\n",
      "Running without Marker API. Activate Marker API with -m on commandline.\n",
      "Running without Marker API. Activate Marker API with -m on commandline.\n"
     ]
    },
    {
     "ename": "KeyboardInterrupt",
     "evalue": "",
     "output_type": "error",
     "traceback": [
      "\u001b[0;31m---------------------------------------------------------------------------\u001b[0m",
      "\u001b[0;31mKeyboardInterrupt\u001b[0m                         Traceback (most recent call last)",
      "\u001b[0;32m/tmp/ipykernel_52148/3384021232.py\u001b[0m in \u001b[0;36m<module>\u001b[0;34m\u001b[0m\n\u001b[0;32m----> 1\u001b[0;31m \u001b[0mMflops_data\u001b[0m \u001b[0;34m=\u001b[0m \u001b[0mbench_peakflops\u001b[0m\u001b[0;34m(\u001b[0m\u001b[0mbuffer_sizes\u001b[0m\u001b[0;34m[\u001b[0m\u001b[0;36m0\u001b[0m\u001b[0;34m]\u001b[0m\u001b[0;34m,\u001b[0m \u001b[0;34m\"kB\"\u001b[0m\u001b[0;34m,\u001b[0m \u001b[0;36m1\u001b[0m\u001b[0;34m)\u001b[0m\u001b[0;34m\u001b[0m\u001b[0;34m\u001b[0m\u001b[0m\n\u001b[0m",
      "\u001b[0;32m/tmp/ipykernel_52148/592286257.py\u001b[0m in \u001b[0;36mbench_peakflops\u001b[0;34m(mem, units, threads, trials)\u001b[0m\n\u001b[1;32m     13\u001b[0m         \u001b[0;32mfor\u001b[0m \u001b[0m_\u001b[0m \u001b[0;32min\u001b[0m \u001b[0mrange\u001b[0m\u001b[0;34m(\u001b[0m\u001b[0mtrials\u001b[0m\u001b[0;34m)\u001b[0m\u001b[0;34m:\u001b[0m\u001b[0;34m\u001b[0m\u001b[0;34m\u001b[0m\u001b[0m\n\u001b[1;32m     14\u001b[0m             \u001b[0mp\u001b[0m \u001b[0;34m=\u001b[0m \u001b[0mPopen\u001b[0m\u001b[0;34m(\u001b[0m\u001b[0mcmd\u001b[0m\u001b[0;34m,\u001b[0m \u001b[0mshell\u001b[0m\u001b[0;34m=\u001b[0m\u001b[0;32mTrue\u001b[0m\u001b[0;34m,\u001b[0m \u001b[0mstdout\u001b[0m\u001b[0;34m=\u001b[0m\u001b[0mf\u001b[0m\u001b[0;34m)\u001b[0m\u001b[0;34m\u001b[0m\u001b[0;34m\u001b[0m\u001b[0m\n\u001b[0;32m---> 15\u001b[0;31m             \u001b[0mp\u001b[0m\u001b[0;34m.\u001b[0m\u001b[0mwait\u001b[0m\u001b[0;34m(\u001b[0m\u001b[0;34m)\u001b[0m\u001b[0;34m\u001b[0m\u001b[0;34m\u001b[0m\u001b[0m\n\u001b[0m\u001b[1;32m     16\u001b[0m         \u001b[0mf\u001b[0m\u001b[0;34m.\u001b[0m\u001b[0mseek\u001b[0m\u001b[0;34m(\u001b[0m\u001b[0;36m0\u001b[0m\u001b[0;34m)\u001b[0m\u001b[0;34m\u001b[0m\u001b[0;34m\u001b[0m\u001b[0m\n\u001b[1;32m     17\u001b[0m         \u001b[0moutput_lines\u001b[0m \u001b[0;34m=\u001b[0m \u001b[0mf\u001b[0m\u001b[0;34m.\u001b[0m\u001b[0mread\u001b[0m\u001b[0;34m(\u001b[0m\u001b[0;34m)\u001b[0m\u001b[0;34m.\u001b[0m\u001b[0mdecode\u001b[0m\u001b[0;34m(\u001b[0m\u001b[0;34m\"utf-8\"\u001b[0m\u001b[0;34m)\u001b[0m\u001b[0;34m.\u001b[0m\u001b[0mstrip\u001b[0m\u001b[0;34m(\u001b[0m\u001b[0;34m)\u001b[0m\u001b[0;34m.\u001b[0m\u001b[0msplit\u001b[0m\u001b[0;34m(\u001b[0m\u001b[0;34m\"\\n\"\u001b[0m\u001b[0;34m)\u001b[0m\u001b[0;34m\u001b[0m\u001b[0;34m\u001b[0m\u001b[0m\n",
      "\u001b[0;32m/usr/lib/python3.8/subprocess.py\u001b[0m in \u001b[0;36mwait\u001b[0;34m(self, timeout)\u001b[0m\n\u001b[1;32m   1081\u001b[0m             \u001b[0mendtime\u001b[0m \u001b[0;34m=\u001b[0m \u001b[0m_time\u001b[0m\u001b[0;34m(\u001b[0m\u001b[0;34m)\u001b[0m \u001b[0;34m+\u001b[0m \u001b[0mtimeout\u001b[0m\u001b[0;34m\u001b[0m\u001b[0;34m\u001b[0m\u001b[0m\n\u001b[1;32m   1082\u001b[0m         \u001b[0;32mtry\u001b[0m\u001b[0;34m:\u001b[0m\u001b[0;34m\u001b[0m\u001b[0;34m\u001b[0m\u001b[0m\n\u001b[0;32m-> 1083\u001b[0;31m             \u001b[0;32mreturn\u001b[0m \u001b[0mself\u001b[0m\u001b[0;34m.\u001b[0m\u001b[0m_wait\u001b[0m\u001b[0;34m(\u001b[0m\u001b[0mtimeout\u001b[0m\u001b[0;34m=\u001b[0m\u001b[0mtimeout\u001b[0m\u001b[0;34m)\u001b[0m\u001b[0;34m\u001b[0m\u001b[0;34m\u001b[0m\u001b[0m\n\u001b[0m\u001b[1;32m   1084\u001b[0m         \u001b[0;32mexcept\u001b[0m \u001b[0mKeyboardInterrupt\u001b[0m\u001b[0;34m:\u001b[0m\u001b[0;34m\u001b[0m\u001b[0;34m\u001b[0m\u001b[0m\n\u001b[1;32m   1085\u001b[0m             \u001b[0;31m# https://bugs.python.org/issue25942\u001b[0m\u001b[0;34m\u001b[0m\u001b[0;34m\u001b[0m\u001b[0;34m\u001b[0m\u001b[0m\n",
      "\u001b[0;32m/usr/lib/python3.8/subprocess.py\u001b[0m in \u001b[0;36m_wait\u001b[0;34m(self, timeout)\u001b[0m\n\u001b[1;32m   1804\u001b[0m                         \u001b[0;32mif\u001b[0m \u001b[0mself\u001b[0m\u001b[0;34m.\u001b[0m\u001b[0mreturncode\u001b[0m \u001b[0;32mis\u001b[0m \u001b[0;32mnot\u001b[0m \u001b[0;32mNone\u001b[0m\u001b[0;34m:\u001b[0m\u001b[0;34m\u001b[0m\u001b[0;34m\u001b[0m\u001b[0m\n\u001b[1;32m   1805\u001b[0m                             \u001b[0;32mbreak\u001b[0m  \u001b[0;31m# Another thread waited.\u001b[0m\u001b[0;34m\u001b[0m\u001b[0;34m\u001b[0m\u001b[0m\n\u001b[0;32m-> 1806\u001b[0;31m                         \u001b[0;34m(\u001b[0m\u001b[0mpid\u001b[0m\u001b[0;34m,\u001b[0m \u001b[0msts\u001b[0m\u001b[0;34m)\u001b[0m \u001b[0;34m=\u001b[0m \u001b[0mself\u001b[0m\u001b[0;34m.\u001b[0m\u001b[0m_try_wait\u001b[0m\u001b[0;34m(\u001b[0m\u001b[0;36m0\u001b[0m\u001b[0;34m)\u001b[0m\u001b[0;34m\u001b[0m\u001b[0;34m\u001b[0m\u001b[0m\n\u001b[0m\u001b[1;32m   1807\u001b[0m                         \u001b[0;31m# Check the pid and loop as waitpid has been known to\u001b[0m\u001b[0;34m\u001b[0m\u001b[0;34m\u001b[0m\u001b[0;34m\u001b[0m\u001b[0m\n\u001b[1;32m   1808\u001b[0m                         \u001b[0;31m# return 0 even without WNOHANG in odd situations.\u001b[0m\u001b[0;34m\u001b[0m\u001b[0;34m\u001b[0m\u001b[0;34m\u001b[0m\u001b[0m\n",
      "\u001b[0;32m/usr/lib/python3.8/subprocess.py\u001b[0m in \u001b[0;36m_try_wait\u001b[0;34m(self, wait_flags)\u001b[0m\n\u001b[1;32m   1762\u001b[0m             \u001b[0;34m\"\"\"All callers to this function MUST hold self._waitpid_lock.\"\"\"\u001b[0m\u001b[0;34m\u001b[0m\u001b[0;34m\u001b[0m\u001b[0m\n\u001b[1;32m   1763\u001b[0m             \u001b[0;32mtry\u001b[0m\u001b[0;34m:\u001b[0m\u001b[0;34m\u001b[0m\u001b[0;34m\u001b[0m\u001b[0m\n\u001b[0;32m-> 1764\u001b[0;31m                 \u001b[0;34m(\u001b[0m\u001b[0mpid\u001b[0m\u001b[0;34m,\u001b[0m \u001b[0msts\u001b[0m\u001b[0;34m)\u001b[0m \u001b[0;34m=\u001b[0m \u001b[0mos\u001b[0m\u001b[0;34m.\u001b[0m\u001b[0mwaitpid\u001b[0m\u001b[0;34m(\u001b[0m\u001b[0mself\u001b[0m\u001b[0;34m.\u001b[0m\u001b[0mpid\u001b[0m\u001b[0;34m,\u001b[0m \u001b[0mwait_flags\u001b[0m\u001b[0;34m)\u001b[0m\u001b[0;34m\u001b[0m\u001b[0;34m\u001b[0m\u001b[0m\n\u001b[0m\u001b[1;32m   1765\u001b[0m             \u001b[0;32mexcept\u001b[0m \u001b[0mChildProcessError\u001b[0m\u001b[0;34m:\u001b[0m\u001b[0;34m\u001b[0m\u001b[0;34m\u001b[0m\u001b[0m\n\u001b[1;32m   1766\u001b[0m                 \u001b[0;31m# This happens if SIGCLD is set to be ignored or waiting\u001b[0m\u001b[0;34m\u001b[0m\u001b[0;34m\u001b[0m\u001b[0;34m\u001b[0m\u001b[0m\n",
      "\u001b[0;31mKeyboardInterrupt\u001b[0m: "
     ]
    }
   ],
   "source": [
    "Mflops_data = bench_peakflops(buffer_sizes[0], \"kB\", 1)"
   ]
  },
  {
   "cell_type": "code",
   "execution_count": 51,
   "id": "0bf82bee",
   "metadata": {},
   "outputs": [
    {
     "data": {
      "text/plain": [
       "[5178.29, 5175.56, 5175.7, 5169.06, 5160.98]"
      ]
     },
     "execution_count": 51,
     "metadata": {},
     "output_type": "execute_result"
    }
   ],
   "source": [
    "Mflops_data"
   ]
  },
  {
   "cell_type": "code",
   "execution_count": null,
   "id": "8e0503e2",
   "metadata": {},
   "outputs": [],
   "source": [
    "flops_cmd = \"likwid-bench -t peakflops\"\n",
    "bw_cmd = \"likwid-bench -t load\""
   ]
  },
  {
   "cell_type": "code",
   "execution_count": 4,
   "id": "22f1750a",
   "metadata": {},
   "outputs": [],
   "source": [
    "Popen?"
   ]
  },
  {
   "cell_type": "code",
   "execution_count": null,
   "id": "6730f81b",
   "metadata": {},
   "outputs": [],
   "source": []
  }
 ],
 "metadata": {
  "kernelspec": {
   "display_name": "Python 3 (ipykernel)",
   "language": "python",
   "name": "python3"
  },
  "language_info": {
   "codemirror_mode": {
    "name": "ipython",
    "version": 3
   },
   "file_extension": ".py",
   "mimetype": "text/x-python",
   "name": "python",
   "nbconvert_exporter": "python",
   "pygments_lexer": "ipython3",
   "version": "3.8.10"
  }
 },
 "nbformat": 4,
 "nbformat_minor": 5
}
